{
 "cells": [
  {
   "cell_type": "code",
   "execution_count": null,
   "metadata": {},
   "outputs": [],
   "source": [
    "import psycopg2\n",
    "from psycopg2 import Error\n",
    "\n",
    "try:\n",
    "    connection = psycopg2.connect(user=\"tester\",\n",
    "                                  password=\"postgres\",\n",
    "                                  host=\"127.0.0.1\",\n",
    "                                  port=\"5432\",\n",
    "                                  database=\"testdb\")\n",
    "\n",
    "    cursor = connection.cursor()\n",
    "    \n",
    "    # SQL query to create a new table\n",
    "    create_table_query = '''CREATE TABLE \n",
    "          (ID INT PRIMARY KEY NOT NULL,\n",
    "          HREF TEXT NOT NULL,\n",
    "          DATE_TIME TEXT NOT NULL,\n",
    "          TEXT TEXT NOT NULL); '''\n",
    "    \n",
    "    # Execute a command: this creates a new table\n",
    "    cursor.execute(create_table_query)\n",
    "    connection.commit()\n",
    "    print(\"Table created successfully in PostgreSQL \")\n",
    "\n",
    "except (Exception, Error) as error:\n",
    "    print(\"Error while connecting to PostgreSQL\", error)\n",
    "finally:\n",
    "    if connection:\n",
    "        cursor.close()\n",
    "        connection.close()\n",
    "        print(\"PostgreSQL connection is closed\")"
   ]
  },
  {
   "cell_type": "code",
   "execution_count": null,
   "metadata": {},
   "outputs": [],
   "source": [
    "import urllib.request\n",
    "from bs4 import BeautifulSoup\n",
    "import re\n",
    "import requests\n",
    "from datetime import date, timedelta\n",
    "\n",
    "import psycopg2\n",
    "from psycopg2 import Error\n",
    "\n",
    "try:\n",
    "    connection = psycopg2.connect(user=\"tester\",\n",
    "                                  password=\"postgres\",\n",
    "                                  host=\"127.0.0.1\",\n",
    "                                  port=\"5432\",\n",
    "                                  database=\"testdb\")\n",
    "\n",
    "    cursor = connection.cursor()\n",
    "    # Executing a SQL query to insert data into  table\n",
    "    insert_query = \"\"\"INSERT INTO book (ID, TITLE_HREF, DATE_TIME, WHOLE_TEXT) VALUES (%s, %s, %s, %s)\"\"\"\n",
    "    values = (a, post, date_time, text)\n",
    "    cursor.execute(insert_query, values)\n",
    "    connection.commit()\n",
    "    print(\"1 Record inserted successfully\")\n",
    "    # Deleting duplicates from table\n",
    "    delete_query = \"\"\"DELETE FROM site3 a USING site3 b WHERE a.id > b.id AND a.TITLE_HREF = b.TITLE_HREF;\"\"\"\n",
    "    cursor.execute(delete_query)\n",
    "    connection.commit()\n",
    "    print(\"2 Duplicates deleted successfully\")\n",
    "    # Fetch result\n",
    "    cursor.execute(\"SELECT * from site2\")\n",
    "    record = cursor.fetchall()\n",
    "    print(\"Result \", record)\n",
    "\n",
    "except (Exception, psycopg2.Error) as error:\n",
    "    print(\"Error while connecting to PostgreSQL\", error)\n",
    "finally:\n",
    "    if connection:\n",
    "        cursor.close()\n",
    "        connection.close()\n",
    "        print(\"PostgreSQL connection is closed\")"
   ]
  },
  {
   "cell_type": "code",
   "execution_count": 2,
   "metadata": {},
   "outputs": [
    {
     "name": "stdout",
     "output_type": "stream",
     "text": [
      "Table altered successfully in PostgreSQL \n",
      "PostgreSQL connection is closed\n"
     ]
    }
   ],
   "source": [
    "import psycopg2\n",
    "from psycopg2 import Error\n",
    "\n",
    "try:\n",
    "    connection = psycopg2.connect(user=\"tester\",\n",
    "                                  password=\"postgres\",\n",
    "                                  host=\"127.0.0.1\",\n",
    "                                  port=\"5432\",\n",
    "                                  database=\"testdb\")\n",
    "\n",
    "    cursor = connection.cursor()\n",
    "    \n",
    "    # SQL query\n",
    "    query = ''';'''\n",
    "    \n",
    "    # Execute a command: this alters a table\n",
    "    cursor.execute(query)\n",
    "    connection.commit()\n",
    "    print(\"Table altered successfully in PostgreSQL \")\n",
    "\n",
    "except (Exception, Error) as error:\n",
    "    print(\"Error while connecting to PostgreSQL\", error)\n",
    "finally:\n",
    "    if connection:\n",
    "        cursor.close()\n",
    "        connection.close()\n",
    "        print(\"PostgreSQL connection is closed\")"
   ]
  },
  {
   "cell_type": "code",
   "execution_count": null,
   "metadata": {},
   "outputs": [],
   "source": []
  }
 ],
 "metadata": {
  "kernelspec": {
   "display_name": "Python 3",
   "language": "python",
   "name": "python3"
  },
  "language_info": {
   "codemirror_mode": {
    "name": "ipython",
    "version": 3
   },
   "file_extension": ".py",
   "mimetype": "text/x-python",
   "name": "python",
   "nbconvert_exporter": "python",
   "pygments_lexer": "ipython3",
   "version": "3.8.10"
  }
 },
 "nbformat": 4,
 "nbformat_minor": 2
}
